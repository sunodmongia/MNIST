{
 "cells": [
  {
   "cell_type": "code",
   "execution_count": null,
   "id": "940b1fae",
   "metadata": {},
   "outputs": [],
   "source": [
    "from sklearn.datasets import fetch_openml\n",
    "import pandas as pd\n",
    "\n",
    "mnist = fetch_openml(\"mnist_784\", version=1, as_frame=False)"
   ]
  },
  {
   "cell_type": "code",
   "execution_count": null,
   "id": "067fa2dc",
   "metadata": {},
   "outputs": [],
   "source": [
    "X, y = mnist.data, mnist.target"
   ]
  },
  {
   "cell_type": "code",
   "execution_count": null,
   "id": "699b7b5c",
   "metadata": {},
   "outputs": [],
   "source": [
    "X"
   ]
  },
  {
   "cell_type": "code",
   "execution_count": null,
   "id": "5b6881c3",
   "metadata": {},
   "outputs": [],
   "source": [
    "X.shape"
   ]
  },
  {
   "cell_type": "code",
   "execution_count": null,
   "id": "9909c8b8",
   "metadata": {},
   "outputs": [],
   "source": [
    "y"
   ]
  },
  {
   "cell_type": "code",
   "execution_count": null,
   "id": "3868ea86",
   "metadata": {},
   "outputs": [],
   "source": [
    "y.shape"
   ]
  },
  {
   "cell_type": "markdown",
   "id": "82fdb83e",
   "metadata": {},
   "source": [
    "Display the image of MNIST dataset using Matplotlib imshow()"
   ]
  },
  {
   "cell_type": "code",
   "execution_count": null,
   "id": "f8b20205",
   "metadata": {},
   "outputs": [],
   "source": [
    "import matplotlib.pyplot as plt\n",
    "\n",
    "\n",
    "def plot_digits(image):\n",
    "    image = image.reshape(28, 28)\n",
    "    plt.imshow(image, cmap=\"binary\")\n",
    "    plt.axis(\"off\")\n",
    "\n",
    "\n",
    "digit_one = X[24]\n",
    "digit_five = X[0]\n",
    "digit_four = X[2]\n",
    "\n",
    "\n",
    "plt.figure(figsize=(6, 3))\n",
    "\n",
    "plt.subplot(1,3,1)\n",
    "plot_digits(digit_one)\n",
    "plt.title(\"digit_one\")\n",
    "\n",
    "plt.subplot(1, 3, 2)\n",
    "plot_digits(digit_four)\n",
    "plt.title(\"digit_four\")\n",
    "\n",
    "plt.subplot(1, 3, 3)\n",
    "plot_digits(digit_five)\n",
    "plt.title(\"digit_five\")\n",
    "\n",
    "plt.show()"
   ]
  },
  {
   "cell_type": "code",
   "execution_count": null,
   "id": "714ae2ad",
   "metadata": {},
   "outputs": [],
   "source": [
    "y[24], y[0]"
   ]
  },
  {
   "cell_type": "code",
   "execution_count": null,
   "id": "3e1a2f39",
   "metadata": {},
   "outputs": [],
   "source": [
    "plt.figure(figsize=(9, 9))\n",
    "for idx, img_data in enumerate(X[:400]):\n",
    "    plt.subplot(20, 20, idx + 1)\n",
    "    plot_digits(img_data)\n",
    "# plt.subplots_adjust(wspace=0, hspace=0)\n",
    "plt.show()"
   ]
  },
  {
   "cell_type": "code",
   "execution_count": null,
   "id": "be10a20e",
   "metadata": {},
   "outputs": [],
   "source": [
    "from sklearn.model_selection import train_test_split\n",
    "\n",
    "X_train, X_test, y_train, y_test = train_test_split(\n",
    "    X, y, stratify=y, test_size=0.2, random_state=42\n",
    ")"
   ]
  },
  {
   "cell_type": "markdown",
   "id": "e390d8fa",
   "metadata": {},
   "source": [
    "Training a Binary Classifier"
   ]
  },
  {
   "cell_type": "code",
   "execution_count": null,
   "id": "814b9a0a",
   "metadata": {},
   "outputs": [],
   "source": [
    "y_train_5 = y_train == \"5\"\n",
    "y_test_5 = y_test == \"5\""
   ]
  },
  {
   "cell_type": "code",
   "execution_count": null,
   "id": "3627dff3",
   "metadata": {},
   "outputs": [],
   "source": [
    "from sklearn.linear_model import SGDClassifier\n",
    "\n",
    "sgd_classifier = SGDClassifier(random_state=42)\n",
    "sgd_classifier.fit(\n",
    "    X_train, y_train_5\n",
    ")  # Adding this, now sgd_classifier can be used for detection of number 5"
   ]
  },
  {
   "cell_type": "code",
   "execution_count": null,
   "id": "5bd15b49",
   "metadata": {},
   "outputs": [],
   "source": [
    "# Using sgd_classifier\n",
    "\n",
    "sgd_classifier.predict(\n",
    "    [digit_four]\n",
    ")  # sgd_classifier is for digit 5 but some_digit is digit 1\n",
    "\n",
    "# So array show False"
   ]
  },
  {
   "cell_type": "code",
   "execution_count": null,
   "id": "0e2a8909",
   "metadata": {},
   "outputs": [],
   "source": [
    "sgd_classifier.predict([digit_five])\n",
    "\n",
    "# digit_five is actually digit 5 from MNIST dataset. So, answer is True"
   ]
  },
  {
   "cell_type": "markdown",
   "id": "339d6ce6",
   "metadata": {},
   "source": [
    "Measuring Accuary using Cross-Validation\n",
    "Measuring the perform of SGDClassifier using k-fold cross-validation "
   ]
  },
  {
   "cell_type": "code",
   "execution_count": null,
   "id": "c291e98d",
   "metadata": {},
   "outputs": [],
   "source": [
    "# It will take sometime\n",
    "\n",
    "from sklearn.model_selection import cross_val_score\n",
    "\n",
    "score = cross_val_score(sgd_classifier, X_train, y_train_5, cv=5, scoring=\"accuracy\")"
   ]
  },
  {
   "cell_type": "code",
   "execution_count": null,
   "id": "1cc9af65",
   "metadata": {},
   "outputs": [],
   "source": [
    "score"
   ]
  },
  {
   "cell_type": "code",
   "execution_count": null,
   "id": "7e4d9e65",
   "metadata": {},
   "outputs": [],
   "source": [
    "pd.Series(score).describe()"
   ]
  },
  {
   "cell_type": "code",
   "execution_count": null,
   "id": "078522af",
   "metadata": {},
   "outputs": [],
   "source": [
    "from sklearn.model_selection import StratifiedKFold\n",
    "from sklearn.base import clone\n",
    "\n",
    "skfold = StratifiedKFold(n_splits=5)\n",
    "\n",
    "for train_idx, test_idx in skfold.split(X_train, y_train_5):\n",
    "    clone_clf = clone(sgd_classifier)\n",
    "    X_train_fold = X_train[train_idx]\n",
    "    X_test_fold = X_train[test_idx]\n",
    "    y_train_fold = y_train_5[train_idx]\n",
    "    y_test_fold = y_train_5[test_idx]\n",
    "\n",
    "    clone_clf.fit(X_train_fold, y_train_fold)\n",
    "    y_pred = clone_clf.predict(X_test_fold)\n",
    "    n_correct = sum(y_pred == y_test_fold)\n",
    "    print(n_correct / len(y_pred))"
   ]
  },
  {
   "cell_type": "code",
   "execution_count": null,
   "id": "ef766bf0",
   "metadata": {},
   "outputs": [],
   "source": [
    "from sklearn.dummy import DummyClassifier\n",
    "\n",
    "dummy_clf = DummyClassifier()\n",
    "dummy_clf.fit(X_train, y_train_5)\n",
    "print(any(dummy_clf.predict(X_train)))\n",
    "\n",
    "cross_val_score(dummy_clf, X_train, y_train_5, cv=5, scoring=\"accuracy\")"
   ]
  },
  {
   "cell_type": "code",
   "execution_count": null,
   "id": "42b0412d",
   "metadata": {},
   "outputs": [],
   "source": [
    "from sklearn.model_selection import cross_val_predict\n",
    "\n",
    "y_train_pred = cross_val_predict(sgd_classifier, X_train, y_train_5, cv=5)"
   ]
  },
  {
   "cell_type": "code",
   "execution_count": null,
   "id": "58dcff19",
   "metadata": {},
   "outputs": [],
   "source": [
    "from sklearn.metrics import confusion_matrix\n",
    "\n",
    "cm = confusion_matrix(y_train_5, y_train_pred)\n",
    "cm"
   ]
  },
  {
   "cell_type": "code",
   "execution_count": null,
   "id": "0f80fae9",
   "metadata": {},
   "outputs": [],
   "source": [
    "y_train_perfect_predictions = y_train_5\n",
    "confusion_matrix(y_train_5, y_train_perfect_predictions)"
   ]
  },
  {
   "cell_type": "code",
   "execution_count": null,
   "id": "22c0f718",
   "metadata": {},
   "outputs": [],
   "source": [
    "from sklearn.metrics import precision_score, recall_score\n",
    "\n",
    "precision_score(\n",
    "    y_train_5, y_train_pred\n",
    ")  # 4047 / (4047 + 1450) [Refers to Confusion Matrix]"
   ]
  },
  {
   "cell_type": "code",
   "execution_count": null,
   "id": "d83ffb60",
   "metadata": {},
   "outputs": [],
   "source": [
    "recall_score(\n",
    "    y_train_5, y_train_pred\n",
    ")  # 4047 / (4047 + 1003) [Refers to Confusion Matrix]"
   ]
  },
  {
   "cell_type": "code",
   "execution_count": null,
   "id": "63d9f921",
   "metadata": {},
   "outputs": [],
   "source": [
    "from sklearn.metrics import f1_score\n",
    "\n",
    "f1_score(y_train_5, y_train_pred)"
   ]
  },
  {
   "cell_type": "code",
   "execution_count": null,
   "id": "f8c1fe60",
   "metadata": {},
   "outputs": [],
   "source": [
    "y_score = sgd_classifier.decision_function([digit_five])\n",
    "y_score"
   ]
  },
  {
   "cell_type": "code",
   "execution_count": null,
   "id": "e6dfc9c0",
   "metadata": {},
   "outputs": [],
   "source": [
    "threshold = 0\n",
    "y_digit_five_score = y_score > threshold\n",
    "y_digit_five_score"
   ]
  },
  {
   "cell_type": "code",
   "execution_count": null,
   "id": "ddde8296",
   "metadata": {},
   "outputs": [],
   "source": [
    "threshold = 3000\n",
    "y_digit_five_score = y_score > threshold\n",
    "y_digit_five_score"
   ]
  },
  {
   "cell_type": "code",
   "execution_count": null,
   "id": "b25dce2c",
   "metadata": {},
   "outputs": [],
   "source": [
    "y_score = cross_val_predict(\n",
    "    sgd_classifier, X_train, y_train_5, cv=5, method=\"decision_function\"\n",
    ")"
   ]
  },
  {
   "cell_type": "code",
   "execution_count": null,
   "id": "9c8e13d3",
   "metadata": {},
   "outputs": [],
   "source": [
    "from sklearn.metrics import precision_recall_curve\n",
    "\n",
    "precisions, recalls, thresholds = precision_recall_curve(y_train_5, y_score)"
   ]
  },
  {
   "cell_type": "code",
   "execution_count": null,
   "id": "07f0e73b",
   "metadata": {},
   "outputs": [],
   "source": [
    "plt.figure(figsize=(8, 4))\n",
    "plt.plot(thresholds, precisions[:-1], \"b--\", label=\"Precision\", linewidth=2)\n",
    "plt.plot(thresholds, recalls[:-1], \"g-\", label=\"Recall\", linewidth=2)\n",
    "plt.vlines(threshold, 0, 1.0, \"k\", \"dotted\", label=\"Threshold\")\n",
    "\n",
    "idx = (thresholds >= threshold).argmax()  # first index ≥ threshold\n",
    "plt.plot(thresholds[idx], precisions[idx], \"bo\")\n",
    "plt.plot(thresholds[idx], recalls[idx], \"go\")\n",
    "plt.axis([-50000, 50000, 0, 1])\n",
    "plt.grid()\n",
    "plt.xlabel(\"Threshold\")\n",
    "plt.ylabel(\"Precision and Recall\")\n",
    "plt.title(\"Precision and Recall vs Threshold\")\n",
    "plt.legend(loc=\"center right\")\n",
    "\n",
    "plt.show()"
   ]
  },
  {
   "cell_type": "code",
   "execution_count": null,
   "id": "21503706",
   "metadata": {},
   "outputs": [],
   "source": [
    "import matplotlib.patches as patches\n",
    "\n",
    "plt.figure(figsize=(8, 6))\n",
    "plt.plot(recalls, precisions, \"b-\", linewidth=2, label=\"Precision vs Recall Curve\")\n",
    "plt.title(\"Precision vs Recall Curve\")\n",
    "plt.grid()\n",
    "plt.xlabel(\"Recall\")\n",
    "plt.ylabel(\"Precision\")\n",
    "plt.legend()\n",
    "plt.gca().add_patch(\n",
    "    patches.FancyArrowPatch(\n",
    "        (0.79, 0.60),\n",
    "        (0.61, 0.78),\n",
    "        connectionstyle=\"arc3,rad=.2\",\n",
    "        arrowstyle=\"Simple, tail_width=1.5, head_width=8, head_length=10\",\n",
    "        color=\"#444444\",\n",
    "    )\n",
    ")\n",
    "plt.text(0.56, 0.62, \"Higher\\nthreshold\", color=\"#333333\")\n",
    "plt.show()"
   ]
  },
  {
   "cell_type": "code",
   "execution_count": null,
   "id": "f19869a9",
   "metadata": {},
   "outputs": [],
   "source": [
    "idx_for_90_precision = (precisions >= 0.90).argmax()\n",
    "threshold_for_90_precision = thresholds[idx_for_90_precision]\n",
    "threshold_for_90_precision"
   ]
  },
  {
   "cell_type": "code",
   "execution_count": null,
   "id": "70416e91",
   "metadata": {},
   "outputs": [],
   "source": [
    "y_train_pred_90 = y_score >= threshold_for_90_precision\n",
    "precision_score(y_train_5, y_train_pred_90)"
   ]
  },
  {
   "cell_type": "code",
   "execution_count": null,
   "id": "60fbafb4",
   "metadata": {},
   "outputs": [],
   "source": [
    "recall_score(y_train_5, y_train_pred_90)"
   ]
  },
  {
   "cell_type": "code",
   "execution_count": null,
   "id": "c161ef4b",
   "metadata": {},
   "outputs": [],
   "source": [
    "from sklearn.metrics import roc_curve\n",
    "\n",
    "fpr, tpr, thresholds = roc_curve(y_train_5, y_score)"
   ]
  },
  {
   "cell_type": "code",
   "execution_count": null,
   "id": "1e490b2a",
   "metadata": {},
   "outputs": [],
   "source": [
    "idx_for_threshold_at_90 = (thresholds <= threshold_for_90_precision).argmax()\n",
    "tpr_90, fpr_90 = tpr[idx_for_threshold_at_90], fpr[idx_for_threshold_at_90]"
   ]
  },
  {
   "cell_type": "code",
   "execution_count": null,
   "id": "333fd4a2",
   "metadata": {},
   "outputs": [],
   "source": [
    "plt.plot(fpr, tpr, linewidth=2, label=\"ROC curve\")\n",
    "plt.plot([0, 1], [0, 1], \"k\", label=\"Random Classifier's ROC Curve\")\n",
    "plt.plot([fpr_90], [tpr_90], \"ko\", label=\"Threshold for 90% precision\")\n",
    "plt.grid()\n",
    "plt.gca().add_patch(\n",
    "    patches.FancyArrowPatch(\n",
    "        (0.25, 0.89),\n",
    "        (0.09, 0.65),\n",
    "        connectionstyle=\"arc3, rad=.4\",\n",
    "        arrowstyle=\"Simple, tail_width=1.5, head_width=10, head_length=10\",\n",
    "        color=\"black\",\n",
    "    )\n",
    ")\n",
    "plt.text(0.15, 0.73, \"Higher\\nthreshold\", color=\"black\")\n",
    "plt.xlabel(\"False Positive Rate\")\n",
    "plt.ylabel(\"True Positive Rate\")\n",
    "plt.legend()\n",
    "plt.show()"
   ]
  },
  {
   "cell_type": "code",
   "execution_count": null,
   "id": "d6bedbf3",
   "metadata": {},
   "outputs": [],
   "source": [
    "from sklearn.metrics import roc_auc_score\n",
    "\n",
    "roc_auc_score(y_train_5, y_score)"
   ]
  },
  {
   "cell_type": "markdown",
   "id": "1cfef5b2",
   "metadata": {},
   "source": [
    "Selecting Model"
   ]
  },
  {
   "cell_type": "code",
   "execution_count": null,
   "id": "458e1c7d",
   "metadata": {},
   "outputs": [],
   "source": [
    "#Selecting the Model RandomForestClassifier\n",
    "\n",
    "from sklearn.ensemble import RandomForestClassifier\n",
    "\n",
    "forest_classifier = RandomForestClassifier(random_state=42)"
   ]
  },
  {
   "cell_type": "code",
   "execution_count": null,
   "id": "dd994653",
   "metadata": {},
   "outputs": [],
   "source": [
    "y_prob_foreest = cross_val_predict(\n",
    "    forest_classifier, X_train, y_train_5, cv=5, method=\"predict_proba\"\n",
    ")"
   ]
  },
  {
   "cell_type": "code",
   "execution_count": null,
   "id": "e51cb984",
   "metadata": {},
   "outputs": [],
   "source": [
    "y_prob_foreest[:2]"
   ]
  },
  {
   "cell_type": "code",
   "execution_count": null,
   "id": "62f9dc3d",
   "metadata": {},
   "outputs": [],
   "source": [
    "y_score_forest = y_prob_foreest[:, 1]\n",
    "precisions_forest, recalls_forest, thresholds_forest = precision_recall_curve(\n",
    "    y_train_5, y_score_forest\n",
    ")"
   ]
  },
  {
   "cell_type": "code",
   "execution_count": null,
   "id": "c44ca0d3",
   "metadata": {},
   "outputs": [],
   "source": [
    "plt.plot(recalls_forest, precisions_forest, \"k-\", linewidth=2, label=\"Random Forest\")\n",
    "plt.plot(recalls, precisions, \"b--\", linewidth=2, label=\"SGD\")\n",
    "plt.grid()\n",
    "plt.legend()\n",
    "plt.xlabel(\"Recall\")\n",
    "plt.ylabel(\"Precision\")\n",
    "plt.axis([0, 1, 0, 1])\n",
    "plt.show()"
   ]
  },
  {
   "cell_type": "code",
   "execution_count": null,
   "id": "41c71669",
   "metadata": {},
   "outputs": [],
   "source": [
    "y_train_pred_forest = y_prob_foreest[:,1] >= 0.5"
   ]
  },
  {
   "cell_type": "code",
   "execution_count": null,
   "id": "2be14e52",
   "metadata": {},
   "outputs": [],
   "source": [
    "f1_score(y_train_5, y_train_pred_forest)"
   ]
  },
  {
   "cell_type": "code",
   "execution_count": null,
   "id": "a39026c3",
   "metadata": {},
   "outputs": [],
   "source": [
    "roc_auc_score(y_train_5, y_score_forest)"
   ]
  },
  {
   "cell_type": "markdown",
   "id": "b60c5dd8",
   "metadata": {},
   "source": [
    "Multiclass Classification:\n",
    "We use the binary classifier for predicting the multiclass classification\n",
    "We train different model for predicting the different digits under one model\n",
    "\n",
    "SVC does this. SVC is by default one-vs-one(OvO) model classifier."
   ]
  },
  {
   "cell_type": "code",
   "execution_count": null,
   "id": "aa519d1e",
   "metadata": {},
   "outputs": [],
   "source": [
    "from sklearn.svm import SVC\n",
    "\n",
    "svc_classifier = SVC(random_state=42)\n",
    "svc_classifier.fit(X_train, y_train)"
   ]
  },
  {
   "cell_type": "code",
   "execution_count": null,
   "id": "72abbc37",
   "metadata": {},
   "outputs": [],
   "source": [
    "svc_classifier.predict([digit_one])"
   ]
  },
  {
   "cell_type": "code",
   "execution_count": null,
   "id": "b0fd1884",
   "metadata": {},
   "outputs": [],
   "source": [
    "svc_classifier.predict([digit_five])"
   ]
  },
  {
   "cell_type": "code",
   "execution_count": null,
   "id": "8990b2f0",
   "metadata": {},
   "outputs": [],
   "source": [
    "svc_classifier.predict([digit_four])"
   ]
  },
  {
   "cell_type": "code",
   "execution_count": null,
   "id": "d966c2cf",
   "metadata": {},
   "outputs": [],
   "source": [
    "digit_five_scores = svc_classifier.decision_function([digit_five])\n",
    "digit_five_scores.round(3)"
   ]
  },
  {
   "cell_type": "code",
   "execution_count": null,
   "id": "0481c2bc",
   "metadata": {},
   "outputs": [],
   "source": [
    "digit_four_scores = svc_classifier.decision_function([digit_four])\n",
    "digit_four_scores.round(3)"
   ]
  },
  {
   "cell_type": "code",
   "execution_count": null,
   "id": "6297433a",
   "metadata": {},
   "outputs": [],
   "source": [
    "class_id = digit_five_scores.argmax()\n",
    "class_id"
   ]
  },
  {
   "cell_type": "code",
   "execution_count": null,
   "id": "ce228372",
   "metadata": {},
   "outputs": [],
   "source": [
    "class_id_four = digit_four_scores.argmax()\n",
    "class_id_four"
   ]
  },
  {
   "cell_type": "code",
   "execution_count": null,
   "id": "377a480a",
   "metadata": {},
   "outputs": [],
   "source": [
    "svc_classifier.classes_"
   ]
  },
  {
   "cell_type": "code",
   "execution_count": null,
   "id": "984f75b1",
   "metadata": {},
   "outputs": [],
   "source": [
    "svc_classifier.classes_[class_id]"
   ]
  },
  {
   "cell_type": "code",
   "execution_count": null,
   "id": "af8d29c0",
   "metadata": {},
   "outputs": [],
   "source": [
    "svc_classifier.classes_[class_id_four]"
   ]
  },
  {
   "cell_type": "markdown",
   "id": "9329a8c1",
   "metadata": {},
   "source": [
    "Converting the OvO to OvR:\n",
    "Converting whole data to OvR takes lot of time so doing this on small amount of dataset "
   ]
  },
  {
   "cell_type": "code",
   "execution_count": null,
   "id": "2b61cdc8",
   "metadata": {},
   "outputs": [],
   "source": [
    "from sklearn.multiclass import OneVsRestClassifier\n",
    "\n",
    "ovr_classifier = OneVsRestClassifier(SVC(random_state=42))\n",
    "ovr_classifier.fit(X_train, y_train)"
   ]
  },
  {
   "cell_type": "code",
   "execution_count": null,
   "id": "4d279397",
   "metadata": {},
   "outputs": [],
   "source": [
    "ovr_classifier.predict([digit_one])"
   ]
  },
  {
   "cell_type": "code",
   "execution_count": null,
   "id": "d9986aab",
   "metadata": {},
   "outputs": [],
   "source": [
    "ovr_classifier.predict([digit_four])"
   ]
  },
  {
   "cell_type": "code",
   "execution_count": null,
   "id": "a82bcddd",
   "metadata": {},
   "outputs": [],
   "source": [
    "ovr_classifier.predict([digit_five])"
   ]
  },
  {
   "cell_type": "code",
   "execution_count": null,
   "id": "9d9b56d9",
   "metadata": {},
   "outputs": [],
   "source": [
    "sgd_classifier = SGDClassifier(random_state=42)\n",
    "sgd_classifier.fit(X_train, y_train)"
   ]
  },
  {
   "cell_type": "code",
   "execution_count": null,
   "id": "a9ab1ad4",
   "metadata": {},
   "outputs": [],
   "source": [
    "sgd_classifier.predict([digit_one])"
   ]
  },
  {
   "cell_type": "code",
   "execution_count": null,
   "id": "cc9ad03e",
   "metadata": {},
   "outputs": [],
   "source": []
  }
 ],
 "metadata": {
  "kernelspec": {
   "display_name": "env (3.11.9)",
   "language": "python",
   "name": "python3"
  },
  "language_info": {
   "codemirror_mode": {
    "name": "ipython",
    "version": 3
   },
   "file_extension": ".py",
   "mimetype": "text/x-python",
   "name": "python",
   "nbconvert_exporter": "python",
   "pygments_lexer": "ipython3",
   "version": "3.11.9"
  }
 },
 "nbformat": 4,
 "nbformat_minor": 5
}
